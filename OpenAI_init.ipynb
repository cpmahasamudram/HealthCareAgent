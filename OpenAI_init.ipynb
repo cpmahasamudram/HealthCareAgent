{
 "cells": [
  {
   "cell_type": "code",
   "execution_count": null,
   "id": "fa45a362-c20c-4b94-919d-31f9ac282337",
   "metadata": {},
   "outputs": [],
   "source": [
    "import openai\n",
    "import pandas as pd"
   ]
  },
  {
   "cell_type": "code",
   "execution_count": null,
   "id": "5955b035-3677-428e-9fad-2cced1df6bc4",
   "metadata": {},
   "outputs": [],
   "source": [
    "# API key here\n",
    "from dotenv import load_dotenv, find_dotenv\n",
    "import os\n",
    "\n",
    "load_dotenv()\n",
    "\n",
    "api_key = os.getenv(\"API_KEY\")\n",
    "print(api_key)\n",
    "# don't share this key in public / github"
   ]
  },
  {
   "cell_type": "code",
   "execution_count": null,
   "id": "8588f2dc-6781-409d-993a-b7209a986792",
   "metadata": {},
   "outputs": [],
   "source": [
    "# chat completion method\n",
    "    # https://platform.openai.com/docs/guides/text-generation/chat-completions-api\n",
    "client = openai.OpenAI(\n",
    "    # This is the default and can be omitted\n",
    "    api_key=api_key\n",
    ")\n",
    "\n",
    "def get_completion(prompt, model=\"gpt-3.5-turbo-0125\"):\n",
    "    messages = [{\"role\": \"user\", \"content\": prompt}]\n",
    "    response = client.chat.completions.create(\n",
    "        model=model,\n",
    "        messages=messages,\n",
    "        temperature=1,\n",
    "    )\n",
    "    return response.choices[0].message.content"
   ]
  },
  {
   "cell_type": "code",
   "execution_count": null,
   "id": "b5a2dcff-48f7-4d9a-9814-0844850f5f03",
   "metadata": {},
   "outputs": [],
   "source": [
    "prompt = f\"\"\"\n",
    "\"is this working with apikey \"\"\"\n",
    "\n",
    "response = get_completion(prompt)\n",
    "print(response)\n",
    "    #If this runs successfully, your API key is working!"
   ]
  },
  {
   "cell_type": "code",
   "execution_count": null,
   "id": "003b5ccd-e018-42f7-8693-df0a78fcd1cb",
   "metadata": {},
   "outputs": [],
   "source": []
  }
 ],
 "metadata": {
  "kernelspec": {
   "display_name": "test_env",
   "language": "python",
   "name": "test_env"
  },
  "language_info": {
   "codemirror_mode": {
    "name": "ipython",
    "version": 3
   },
   "file_extension": ".py",
   "mimetype": "text/x-python",
   "name": "python",
   "nbconvert_exporter": "python",
   "pygments_lexer": "ipython3",
   "version": "3.8.2"
  }
 },
 "nbformat": 4,
 "nbformat_minor": 5
}
