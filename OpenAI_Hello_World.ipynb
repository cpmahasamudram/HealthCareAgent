{
 "cells": [
  {
   "cell_type": "code",
   "execution_count": 4,
   "id": "d67cc705-939b-45b9-a0d8-f5f09cc3dc40",
   "metadata": {
    "id": "845fa645"
   },
   "outputs": [],
   "source": [
    "import openai\n",
    "import pandas as pd"
   ]
  },
  {
   "cell_type": "code",
   "execution_count": 5,
   "id": "049d05e7",
   "metadata": {
    "editable": true,
    "id": "049d05e7",
    "slideshow": {
     "slide_type": ""
    },
    "tags": []
   },
   
   "source": [
    "# API key here\n",
    "from dotenv import load_dotenv, find_dotenv\n",
    "import os\n",
    "\n",
    "load_dotenv()\n",
    "\n",
    "api_key = os.getenv(\"API_KEY\")\n",
    "print(api_key)\n",
    "# don't share this key in public / github"
   ]
  },
  {
   "cell_type": "code",
   "execution_count": 7,
   "id": "208bfc64",
   "metadata": {
    "editable": true,
    "id": "208bfc64",
    "slideshow": {
     "slide_type": ""
    },
    "tags": []
   },
   "outputs": [],
   "source": [
    "# chat completion method\n",
    "# https://platform.openai.com/docs/guides/text-generation/chat-completions-api\n",
    "client = openai.OpenAI(\n",
    "    # This is the default and can be omitted\n",
    "    api_key=api_key\n",
    ")\n",
    "\n",
    "def get_completion(prompt, model=\"gpt-3.5-turbo-0125\"):\n",
    "    messages = [{\"role\": \"user\", \"content\": prompt}]\n",
    "    response = client.chat.completions.create(\n",
    "        model=model,\n",
    "        messages=messages,\n",
    "        temperature=1\n",
    "    )\n",
    "    return response.choices[0].message.content"
   ]
  },
  {
   "cell_type": "code",
   "execution_count": 8,
   "id": "576eb1a7",
   "metadata": {
    "id": "576eb1a7"
   },
   "outputs": [
    {
     "name": "stdout",
     "output_type": "stream",
     "text": [
      "Yes, if you are accessing an API that requires an API key, then you need to make sure you are including the API key in your requests in order for it to work properly. Make sure to follow the specific guidelines provided by the API documentation on how to include and authenticate with your API key.\n"
     ]
    }
   ],
   "source": [
    "prompt = f\"\"\"\n",
    "is this working with apikey\n",
    "\"\"\"\n",
    "\n",
    "response = get_completion(prompt)\n",
    "print(response)\n",
    "#If this runs successfully, your API key is working!"
   ]
  },
  {
   "cell_type": "code",
   "execution_count": null,
   "id": "1ee06f91",
   "metadata": {
    "id": "1ee06f91"
   },
   "outputs": [],
   "source": []
  },
  {
   "cell_type": "code",
   "execution_count": null,
   "id": "13f3b2d0",
   "metadata": {
    "id": "13f3b2d0"
   },
   "outputs": [],
   "source": []
  }
 ],
 "metadata": {
  "colab": {
   "provenance": []
  },
  "kernelspec": {
   "display_name": "test_env",
   "language": "python",
   "name": "test_env"
  },
  "language_info": {
   "codemirror_mode": {
    "name": "ipython",
    "version": 3
   },
   "file_extension": ".py",
   "mimetype": "text/x-python",
   "name": "python",
   "nbconvert_exporter": "python",
   "pygments_lexer": "ipython3",
   "version": "3.8.2"
  }
 },
 "nbformat": 4,
 "nbformat_minor": 5
}
